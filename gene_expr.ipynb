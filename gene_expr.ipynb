{
 "cells": [
  {
   "cell_type": "markdown",
   "id": "2dd8988b",
   "metadata": {},
   "source": [
    "# Population gene expression"
   ]
  },
  {
   "cell_type": "code",
   "execution_count": 60,
   "id": "ba5b6280",
   "metadata": {},
   "outputs": [],
   "source": [
    "# library imports\n",
    "import pandas as pd\n",
    "import matplotlib.pyplot as plt\n",
    "import numpy as np"
   ]
  },
  {
   "cell_type": "code",
   "execution_count": 2,
   "id": "a2936829",
   "metadata": {},
   "outputs": [
    {
     "name": "stderr",
     "output_type": "stream",
     "text": [
      "/Users/samiaislam/opt/anaconda3/lib/python3.9/site-packages/openpyxl/worksheet/_read_only.py:79: UserWarning: Unknown extension is not supported and will be removed\n",
      "  for idx, row in parser.parse():\n"
     ]
    },
    {
     "data": {
      "text/html": [
       "<div>\n",
       "<style scoped>\n",
       "    .dataframe tbody tr th:only-of-type {\n",
       "        vertical-align: middle;\n",
       "    }\n",
       "\n",
       "    .dataframe tbody tr th {\n",
       "        vertical-align: top;\n",
       "    }\n",
       "\n",
       "    .dataframe thead th {\n",
       "        text-align: right;\n",
       "    }\n",
       "</style>\n",
       "<table border=\"1\" class=\"dataframe\">\n",
       "  <thead>\n",
       "    <tr style=\"text-align: right;\">\n",
       "      <th></th>\n",
       "      <th>Sample</th>\n",
       "      <th>Family ID</th>\n",
       "      <th>Population</th>\n",
       "      <th>Population Description</th>\n",
       "      <th>Gender</th>\n",
       "      <th>Relationship</th>\n",
       "      <th>Unexpected Parent/Child</th>\n",
       "      <th>Non Paternity</th>\n",
       "      <th>Siblings</th>\n",
       "      <th>Grandparents</th>\n",
       "      <th>Avuncular</th>\n",
       "      <th>Half Siblings</th>\n",
       "      <th>Unknown Second Order</th>\n",
       "      <th>Third Order</th>\n",
       "      <th>Other Comments</th>\n",
       "    </tr>\n",
       "  </thead>\n",
       "  <tbody>\n",
       "    <tr>\n",
       "      <th>0</th>\n",
       "      <td>HG00096</td>\n",
       "      <td>HG00096</td>\n",
       "      <td>GBR</td>\n",
       "      <td>British in England and Scotland</td>\n",
       "      <td>male</td>\n",
       "      <td>NaN</td>\n",
       "      <td>NaN</td>\n",
       "      <td>NaN</td>\n",
       "      <td>NaN</td>\n",
       "      <td>NaN</td>\n",
       "      <td>NaN</td>\n",
       "      <td>NaN</td>\n",
       "      <td>NaN</td>\n",
       "      <td>NaN</td>\n",
       "      <td>NaN</td>\n",
       "    </tr>\n",
       "    <tr>\n",
       "      <th>1</th>\n",
       "      <td>HG00097</td>\n",
       "      <td>HG00097</td>\n",
       "      <td>GBR</td>\n",
       "      <td>British in England and Scotland</td>\n",
       "      <td>female</td>\n",
       "      <td>NaN</td>\n",
       "      <td>NaN</td>\n",
       "      <td>NaN</td>\n",
       "      <td>NaN</td>\n",
       "      <td>NaN</td>\n",
       "      <td>NaN</td>\n",
       "      <td>NaN</td>\n",
       "      <td>NaN</td>\n",
       "      <td>NaN</td>\n",
       "      <td>NaN</td>\n",
       "    </tr>\n",
       "  </tbody>\n",
       "</table>\n",
       "</div>"
      ],
      "text/plain": [
       "    Sample Family ID Population           Population Description  Gender  \\\n",
       "0  HG00096   HG00096        GBR  British in England and Scotland    male   \n",
       "1  HG00097   HG00097        GBR  British in England and Scotland  female   \n",
       "\n",
       "  Relationship Unexpected Parent/Child  Non Paternity Siblings Grandparents  \\\n",
       "0          NaN                      NaN           NaN      NaN          NaN   \n",
       "1          NaN                      NaN           NaN      NaN          NaN   \n",
       "\n",
       "  Avuncular Half Siblings Unknown Second Order Third Order  Other Comments  \n",
       "0       NaN           NaN                  NaN         NaN             NaN  \n",
       "1       NaN           NaN                  NaN         NaN             NaN  "
      ]
     },
     "execution_count": 2,
     "metadata": {},
     "output_type": "execute_result"
    }
   ],
   "source": [
    "# read population excel sheet\n",
    "pop_df = pd.read_excel(\"20130606_sample_info.xlsx\")\n",
    "pop_df.head(2)"
   ]
  },
  {
   "cell_type": "code",
   "execution_count": 3,
   "id": "c70fe6ab",
   "metadata": {},
   "outputs": [
    {
     "data": {
      "text/plain": [
       "array(['GBR', 'FIN', 'CHS', 'PUR', 'CDX', 'CLM', 'IBS', 'PEL', 'PJL',\n",
       "       'KHV', 'ACB', 'GWD', 'ESN', 'BEB', 'MSL', 'STU', 'ITU', 'CEU',\n",
       "       'YRI', 'CHB', 'JPT', 'LWK', 'ASW', 'MXL', 'TSI', 'GIH'],\n",
       "      dtype=object)"
      ]
     },
     "execution_count": 3,
     "metadata": {},
     "output_type": "execute_result"
    }
   ],
   "source": [
    "# unique populations\n",
    "pop_list = pop_df[\"Population\"].unique()\n",
    "pop_list"
   ]
  },
  {
   "cell_type": "code",
   "execution_count": 4,
   "id": "aa78328e",
   "metadata": {},
   "outputs": [
    {
     "data": {
      "text/plain": [
       "26"
      ]
     },
     "execution_count": 4,
     "metadata": {},
     "output_type": "execute_result"
    }
   ],
   "source": [
    "# number of populations\n",
    "len(pop_list)"
   ]
  },
  {
   "cell_type": "code",
   "execution_count": 5,
   "id": "e8ab5b96",
   "metadata": {},
   "outputs": [
    {
     "data": {
      "text/plain": [
       "Population\n",
       "ACB    123\n",
       "ASW    112\n",
       "BEB    144\n",
       "CDX    109\n",
       "CEU    183\n",
       "CHB    108\n",
       "CHS    171\n",
       "CLM    148\n",
       "ESN    173\n",
       "FIN    105\n",
       "GBR    107\n",
       "GIH    113\n",
       "GWD    180\n",
       "IBS    162\n",
       "ITU    118\n",
       "JPT    105\n",
       "KHV    124\n",
       "LWK    116\n",
       "MSL    128\n",
       "MXL    107\n",
       "PEL    130\n",
       "PJL    158\n",
       "PUR    150\n",
       "STU    128\n",
       "TSI    112\n",
       "YRI    186\n",
       "Name: Sample, dtype: int64"
      ]
     },
     "execution_count": 5,
     "metadata": {},
     "output_type": "execute_result"
    }
   ],
   "source": [
    "# number of samples per population\n",
    "pop_df.groupby('Population')['Sample'].count()"
   ]
  },
  {
   "cell_type": "code",
   "execution_count": 63,
   "id": "a1f6c60b",
   "metadata": {},
   "outputs": [
    {
     "data": {
      "text/html": [
       "<div>\n",
       "<style scoped>\n",
       "    .dataframe tbody tr th:only-of-type {\n",
       "        vertical-align: middle;\n",
       "    }\n",
       "\n",
       "    .dataframe tbody tr th {\n",
       "        vertical-align: top;\n",
       "    }\n",
       "\n",
       "    .dataframe thead th {\n",
       "        text-align: right;\n",
       "    }\n",
       "</style>\n",
       "<table border=\"1\" class=\"dataframe\">\n",
       "  <thead>\n",
       "    <tr style=\"text-align: right;\">\n",
       "      <th></th>\n",
       "      <th>Gene ID</th>\n",
       "      <th>Gene Name</th>\n",
       "      <th>British, HG00096</th>\n",
       "      <th>British, HG00097</th>\n",
       "      <th>British, HG00099</th>\n",
       "      <th>British, HG00100</th>\n",
       "      <th>British, HG00101</th>\n",
       "      <th>British, HG00102</th>\n",
       "      <th>British, HG00103</th>\n",
       "      <th>British, HG00104</th>\n",
       "      <th>...</th>\n",
       "      <th>Yoruba, NA19214</th>\n",
       "      <th>Yoruba, NA19222</th>\n",
       "      <th>Yoruba, NA19223</th>\n",
       "      <th>Yoruba, NA19225</th>\n",
       "      <th>Yoruba, NA19235</th>\n",
       "      <th>Yoruba, NA19236</th>\n",
       "      <th>Yoruba, NA19247</th>\n",
       "      <th>Yoruba, NA19248</th>\n",
       "      <th>Yoruba, NA19256</th>\n",
       "      <th>Yoruba, NA19257</th>\n",
       "    </tr>\n",
       "  </thead>\n",
       "  <tbody>\n",
       "    <tr>\n",
       "      <th>0</th>\n",
       "      <td>ENSG00000000003</td>\n",
       "      <td>TSPAN6</td>\n",
       "      <td>NaN</td>\n",
       "      <td>NaN</td>\n",
       "      <td>NaN</td>\n",
       "      <td>NaN</td>\n",
       "      <td>NaN</td>\n",
       "      <td>NaN</td>\n",
       "      <td>NaN</td>\n",
       "      <td>0.1</td>\n",
       "      <td>...</td>\n",
       "      <td>NaN</td>\n",
       "      <td>NaN</td>\n",
       "      <td>0.5</td>\n",
       "      <td>0.1</td>\n",
       "      <td>0.1</td>\n",
       "      <td>0.1</td>\n",
       "      <td>0.1</td>\n",
       "      <td>0.1</td>\n",
       "      <td>NaN</td>\n",
       "      <td>NaN</td>\n",
       "    </tr>\n",
       "  </tbody>\n",
       "</table>\n",
       "<p>1 rows × 464 columns</p>\n",
       "</div>"
      ],
      "text/plain": [
       "           Gene ID Gene Name  British, HG00096  British, HG00097  \\\n",
       "0  ENSG00000000003    TSPAN6               NaN               NaN   \n",
       "\n",
       "   British, HG00099  British, HG00100  British, HG00101  British, HG00102  \\\n",
       "0               NaN               NaN               NaN               NaN   \n",
       "\n",
       "   British, HG00103  British, HG00104  ...  Yoruba, NA19214  Yoruba, NA19222  \\\n",
       "0               NaN               0.1  ...              NaN              NaN   \n",
       "\n",
       "   Yoruba, NA19223  Yoruba, NA19225  Yoruba, NA19235  Yoruba, NA19236  \\\n",
       "0              0.5              0.1              0.1              0.1   \n",
       "\n",
       "   Yoruba, NA19247  Yoruba, NA19248  Yoruba, NA19256  Yoruba, NA19257  \n",
       "0              0.1              0.1              NaN              NaN  \n",
       "\n",
       "[1 rows x 464 columns]"
      ]
     },
     "execution_count": 63,
     "metadata": {},
     "output_type": "execute_result"
    }
   ],
   "source": [
    "# read FPKM table\n",
    "df_fpkm = pd.read_table('fpkm.txt')\n",
    "df_fpkm.head(1)"
   ]
  },
  {
   "cell_type": "code",
   "execution_count": 64,
   "id": "826f50d2",
   "metadata": {},
   "outputs": [
    {
     "data": {
      "text/plain": [
       "464"
      ]
     },
     "execution_count": 64,
     "metadata": {},
     "output_type": "execute_result"
    }
   ],
   "source": [
    "# count how many individuals\n",
    "df_fpkm.shape[1]"
   ]
  },
  {
   "cell_type": "code",
   "execution_count": 65,
   "id": "13afa114",
   "metadata": {},
   "outputs": [
    {
     "data": {
      "text/plain": [
       "Index(['Gene ID', 'Gene Name', 'British, HG00096', 'British, HG00097',\n",
       "       'British, HG00099', 'British, HG00100', 'British, HG00101',\n",
       "       'British, HG00102', 'British, HG00103', 'British, HG00104',\n",
       "       ...\n",
       "       'Yoruba, NA19214', 'Yoruba, NA19222', 'Yoruba, NA19223',\n",
       "       'Yoruba, NA19225', 'Yoruba, NA19235', 'Yoruba, NA19236',\n",
       "       'Yoruba, NA19247', 'Yoruba, NA19248', 'Yoruba, NA19256',\n",
       "       'Yoruba, NA19257'],\n",
       "      dtype='object', length=464)"
      ]
     },
     "execution_count": 65,
     "metadata": {},
     "output_type": "execute_result"
    }
   ],
   "source": [
    "df_fpkm.columns"
   ]
  },
  {
   "cell_type": "code",
   "execution_count": 66,
   "id": "fecfd7fb",
   "metadata": {},
   "outputs": [],
   "source": [
    "# copy dataframe so that changes can be made without losing the original dataframe\n",
    "df_tmp = df_fpkm.copy()"
   ]
  },
  {
   "cell_type": "code",
   "execution_count": 67,
   "id": "a779783f",
   "metadata": {},
   "outputs": [],
   "source": [
    "# for each population in the FPTM (gene expression) file, find average\n",
    "# gene expression. But I don't know which populations are included in the gene\n",
    "# expression file. The way I'm doing it is I'm looking at the dataframe and am picking \n",
    "# one population at a time. I'm finding all the columns belonging to that\n",
    "# population and then finding the average across each row (so, for each gene). Once \n",
    "# I have the average, I remove that population from the copy of the dataframe (don't modify\n",
    "# the original dataframe), and look at the next population. Repeat the above steps."
   ]
  },
  {
   "cell_type": "code",
   "execution_count": 68,
   "id": "6bc49007",
   "metadata": {
    "scrolled": true
   },
   "outputs": [
    {
     "name": "stdout",
     "output_type": "stream",
     "text": [
      "0         0.122857\n",
      "1         0.100000\n",
      "2        48.521277\n",
      "3         3.648936\n",
      "4         4.755319\n",
      "           ...    \n",
      "48968          NaN\n",
      "48969     0.100000\n",
      "48970     0.100000\n",
      "48971          NaN\n",
      "48972     0.128000\n",
      "Length: 48973, dtype: float64\n"
     ]
    },
    {
     "name": "stderr",
     "output_type": "stream",
     "text": [
      "/var/folders/d2/qsznt031653ftxspm5w68v0c0000gn/T/ipykernel_73721/454393048.py:6: FutureWarning: Dropping of nuisance columns in DataFrame reductions (with 'numeric_only=None') is deprecated; in a future version this will raise TypeError.  Select only valid columns before calling the reduction.\n",
      "  british_avg = british_df.mean(axis=1)\n"
     ]
    }
   ],
   "source": [
    "# get average gene expression for british population\n",
    "# extract columns from british population\n",
    "british_columns = ['Gene Name'] + [col for col in df_fpkm.columns if col.startswith('British')]\n",
    "british_df = df_fpkm[british_columns]\n",
    "# find average\n",
    "british_avg = british_df.mean(axis=1)\n",
    "print(british_avg)"
   ]
  },
  {
   "cell_type": "code",
   "execution_count": 69,
   "id": "13f42719",
   "metadata": {},
   "outputs": [
    {
     "name": "stdout",
     "output_type": "stream",
     "text": [
      "[7.24468085106383] [0.2602150537634409] [0.1] [2.515957446808511] [5.617021276595745]\n"
     ]
    }
   ],
   "source": [
    "# save the average of the british population for BMPR2 gene\n",
    "# in a list\n",
    "bmpr2_index = british_df[british_df['Gene Name'] \\\n",
    "                           == 'BMPR2'].index[0]\n",
    "bmpr2_avg_list = [british_avg[bmpr2_index]]\n",
    "smad9_index = british_df[british_df['Gene Name'] \\\n",
    "                           == 'SMAD9'].index[0]\n",
    "smad9_avg_list = [british_avg[smad9_index]]\n",
    "acvrl1_index = british_df[british_df['Gene Name'] \\\n",
    "                           == 'ACVRL1'].index[0]\n",
    "acvrl1_avg_list = [british_avg[acvrl1_index]]\n",
    "cav1_index = british_df[british_df['Gene Name'] \\\n",
    "                           == 'CAV1'].index[0]\n",
    "cav1_avg_list = [british_avg[cav1_index]]\n",
    "eng_index = british_df[british_df['Gene Name'] \\\n",
    "                           == 'ENG'].index[0]\n",
    "eng_avg_list = [british_avg[eng_index]]\n",
    "print(bmpr2_avg_list, smad9_avg_list, acvrl1_avg_list, \\\n",
    "      cav1_avg_list, eng_avg_list)"
   ]
  },
  {
   "cell_type": "code",
   "execution_count": 70,
   "id": "b6823a6a",
   "metadata": {},
   "outputs": [
    {
     "data": {
      "text/html": [
       "<div>\n",
       "<style scoped>\n",
       "    .dataframe tbody tr th:only-of-type {\n",
       "        vertical-align: middle;\n",
       "    }\n",
       "\n",
       "    .dataframe tbody tr th {\n",
       "        vertical-align: top;\n",
       "    }\n",
       "\n",
       "    .dataframe thead th {\n",
       "        text-align: right;\n",
       "    }\n",
       "</style>\n",
       "<table border=\"1\" class=\"dataframe\">\n",
       "  <thead>\n",
       "    <tr style=\"text-align: right;\">\n",
       "      <th></th>\n",
       "      <th>Gene ID</th>\n",
       "      <th>Finland, HG00171</th>\n",
       "      <th>Finland, HG00173</th>\n",
       "      <th>Finland, HG00174</th>\n",
       "      <th>Finland, HG00176</th>\n",
       "      <th>Finland, HG00177</th>\n",
       "      <th>Finland, HG00178</th>\n",
       "      <th>Finland, HG00179</th>\n",
       "      <th>Finland, HG00180</th>\n",
       "      <th>Finland, HG00181</th>\n",
       "      <th>...</th>\n",
       "      <th>Yoruba, NA19214</th>\n",
       "      <th>Yoruba, NA19222</th>\n",
       "      <th>Yoruba, NA19223</th>\n",
       "      <th>Yoruba, NA19225</th>\n",
       "      <th>Yoruba, NA19235</th>\n",
       "      <th>Yoruba, NA19236</th>\n",
       "      <th>Yoruba, NA19247</th>\n",
       "      <th>Yoruba, NA19248</th>\n",
       "      <th>Yoruba, NA19256</th>\n",
       "      <th>Yoruba, NA19257</th>\n",
       "    </tr>\n",
       "  </thead>\n",
       "  <tbody>\n",
       "    <tr>\n",
       "      <th>0</th>\n",
       "      <td>ENSG00000000003</td>\n",
       "      <td>NaN</td>\n",
       "      <td>NaN</td>\n",
       "      <td>NaN</td>\n",
       "      <td>NaN</td>\n",
       "      <td>NaN</td>\n",
       "      <td>NaN</td>\n",
       "      <td>NaN</td>\n",
       "      <td>NaN</td>\n",
       "      <td>NaN</td>\n",
       "      <td>...</td>\n",
       "      <td>NaN</td>\n",
       "      <td>NaN</td>\n",
       "      <td>0.5</td>\n",
       "      <td>0.1</td>\n",
       "      <td>0.1</td>\n",
       "      <td>0.1</td>\n",
       "      <td>0.1</td>\n",
       "      <td>0.1</td>\n",
       "      <td>NaN</td>\n",
       "      <td>NaN</td>\n",
       "    </tr>\n",
       "  </tbody>\n",
       "</table>\n",
       "<p>1 rows × 369 columns</p>\n",
       "</div>"
      ],
      "text/plain": [
       "           Gene ID  Finland, HG00171  Finland, HG00173  Finland, HG00174  \\\n",
       "0  ENSG00000000003               NaN               NaN               NaN   \n",
       "\n",
       "   Finland, HG00176  Finland, HG00177  Finland, HG00178  Finland, HG00179  \\\n",
       "0               NaN               NaN               NaN               NaN   \n",
       "\n",
       "   Finland, HG00180  Finland, HG00181  ...  Yoruba, NA19214  Yoruba, NA19222  \\\n",
       "0               NaN               NaN  ...              NaN              NaN   \n",
       "\n",
       "   Yoruba, NA19223  Yoruba, NA19225  Yoruba, NA19235  Yoruba, NA19236  \\\n",
       "0              0.5              0.1              0.1              0.1   \n",
       "\n",
       "   Yoruba, NA19247  Yoruba, NA19248  Yoruba, NA19256  Yoruba, NA19257  \n",
       "0              0.1              0.1              NaN              NaN  \n",
       "\n",
       "[1 rows x 369 columns]"
      ]
     },
     "execution_count": 70,
     "metadata": {},
     "output_type": "execute_result"
    }
   ],
   "source": [
    "# Remove the 'British' columns from the copy of the dataframe\n",
    "df_tmp = df_tmp.drop(columns=british_columns)\n",
    "df_tmp.head(1)"
   ]
  },
  {
   "cell_type": "code",
   "execution_count": 71,
   "id": "d0502009",
   "metadata": {},
   "outputs": [
    {
     "name": "stdout",
     "output_type": "stream",
     "text": [
      "0         0.115789\n",
      "1         0.100000\n",
      "2        48.242105\n",
      "3         3.326316\n",
      "4         4.789474\n",
      "           ...    \n",
      "48968     0.100000\n",
      "48969     0.100000\n",
      "48970          NaN\n",
      "48971     0.100000\n",
      "48972     0.120000\n",
      "Length: 48973, dtype: float64\n"
     ]
    },
    {
     "name": "stderr",
     "output_type": "stream",
     "text": [
      "/var/folders/d2/qsznt031653ftxspm5w68v0c0000gn/T/ipykernel_73721/1569150367.py:5: FutureWarning: Dropping of nuisance columns in DataFrame reductions (with 'numeric_only=None') is deprecated; in a future version this will raise TypeError.  Select only valid columns before calling the reduction.\n",
      "  fin_avg = fin_df.mean(axis=1)\n"
     ]
    }
   ],
   "source": [
    "# Finland population\n",
    "# extract columns from finnish population\n",
    "fin_columns = ['Gene Name'] + [col for col in df_fpkm.columns if col.startswith('Fin')]\n",
    "fin_df = df_fpkm[fin_columns]\n",
    "fin_avg = fin_df.mean(axis=1)\n",
    "print(fin_avg)"
   ]
  },
  {
   "cell_type": "code",
   "execution_count": 72,
   "id": "92899ceb",
   "metadata": {},
   "outputs": [
    {
     "name": "stdout",
     "output_type": "stream",
     "text": [
      "[7.24468085106383, 7.326315789473684] [0.2602150537634409, 0.22553191489361704] [0.1, 0.10000000000000002] [2.515957446808511, 4.051578947368421] [5.617021276595745, 4.188421052631579]\n"
     ]
    }
   ],
   "source": [
    "# save the average of the finland population for BMPR2 gene\n",
    "# in a list\n",
    "bmpr2_index = fin_df[fin_df['Gene Name'] \\\n",
    "                           == 'BMPR2'].index[0]\n",
    "bmpr2_avg_list.append(fin_avg[bmpr2_index])\n",
    "smad9_index = fin_df[fin_df['Gene Name'] \\\n",
    "                           == 'SMAD9'].index[0]\n",
    "smad9_avg_list.append(fin_avg[smad9_index])\n",
    "acvrl1_index = fin_df[fin_df['Gene Name'] \\\n",
    "                           == 'ACVRL1'].index[0]\n",
    "acvrl1_avg_list.append(fin_avg[acvrl1_index])\n",
    "cav1_index = fin_df[fin_df['Gene Name'] \\\n",
    "                           == 'CAV1'].index[0]\n",
    "cav1_avg_list.append(fin_avg[cav1_index])\n",
    "eng_index = fin_df[fin_df['Gene Name'] \\\n",
    "                           == 'ENG'].index[0]\n",
    "eng_avg_list.append(fin_avg[eng_index])\n",
    "print(bmpr2_avg_list, smad9_avg_list, acvrl1_avg_list, \\\n",
    "     cav1_avg_list, eng_avg_list)"
   ]
  },
  {
   "cell_type": "code",
   "execution_count": 73,
   "id": "40e9903a",
   "metadata": {},
   "outputs": [
    {
     "data": {
      "text/html": [
       "<div>\n",
       "<style scoped>\n",
       "    .dataframe tbody tr th:only-of-type {\n",
       "        vertical-align: middle;\n",
       "    }\n",
       "\n",
       "    .dataframe tbody tr th {\n",
       "        vertical-align: top;\n",
       "    }\n",
       "\n",
       "    .dataframe thead th {\n",
       "        text-align: right;\n",
       "    }\n",
       "</style>\n",
       "<table border=\"1\" class=\"dataframe\">\n",
       "  <thead>\n",
       "    <tr style=\"text-align: right;\">\n",
       "      <th></th>\n",
       "      <th>Gene ID</th>\n",
       "      <th>Tuscan, NA20502</th>\n",
       "      <th>Tuscan, NA20503</th>\n",
       "      <th>Tuscan, NA20504</th>\n",
       "      <th>Tuscan, NA20505</th>\n",
       "      <th>Tuscan, NA20506</th>\n",
       "      <th>Tuscan, NA20507</th>\n",
       "      <th>Tuscan, NA20508</th>\n",
       "      <th>Tuscan, NA20509</th>\n",
       "      <th>Tuscan, NA20510</th>\n",
       "      <th>...</th>\n",
       "      <th>Yoruba, NA19214</th>\n",
       "      <th>Yoruba, NA19222</th>\n",
       "      <th>Yoruba, NA19223</th>\n",
       "      <th>Yoruba, NA19225</th>\n",
       "      <th>Yoruba, NA19235</th>\n",
       "      <th>Yoruba, NA19236</th>\n",
       "      <th>Yoruba, NA19247</th>\n",
       "      <th>Yoruba, NA19248</th>\n",
       "      <th>Yoruba, NA19256</th>\n",
       "      <th>Yoruba, NA19257</th>\n",
       "    </tr>\n",
       "  </thead>\n",
       "  <tbody>\n",
       "    <tr>\n",
       "      <th>0</th>\n",
       "      <td>ENSG00000000003</td>\n",
       "      <td>NaN</td>\n",
       "      <td>NaN</td>\n",
       "      <td>0.1</td>\n",
       "      <td>0.3</td>\n",
       "      <td>NaN</td>\n",
       "      <td>NaN</td>\n",
       "      <td>NaN</td>\n",
       "      <td>NaN</td>\n",
       "      <td>0.1</td>\n",
       "      <td>...</td>\n",
       "      <td>NaN</td>\n",
       "      <td>NaN</td>\n",
       "      <td>0.5</td>\n",
       "      <td>0.1</td>\n",
       "      <td>0.1</td>\n",
       "      <td>0.1</td>\n",
       "      <td>0.1</td>\n",
       "      <td>0.1</td>\n",
       "      <td>NaN</td>\n",
       "      <td>NaN</td>\n",
       "    </tr>\n",
       "  </tbody>\n",
       "</table>\n",
       "<p>1 rows × 274 columns</p>\n",
       "</div>"
      ],
      "text/plain": [
       "           Gene ID  Tuscan, NA20502  Tuscan, NA20503  Tuscan, NA20504  \\\n",
       "0  ENSG00000000003              NaN              NaN              0.1   \n",
       "\n",
       "   Tuscan, NA20505  Tuscan, NA20506  Tuscan, NA20507  Tuscan, NA20508  \\\n",
       "0              0.3              NaN              NaN              NaN   \n",
       "\n",
       "   Tuscan, NA20509  Tuscan, NA20510  ...  Yoruba, NA19214  Yoruba, NA19222  \\\n",
       "0              NaN              0.1  ...              NaN              NaN   \n",
       "\n",
       "   Yoruba, NA19223  Yoruba, NA19225  Yoruba, NA19235  Yoruba, NA19236  \\\n",
       "0              0.5              0.1              0.1              0.1   \n",
       "\n",
       "   Yoruba, NA19247  Yoruba, NA19248  Yoruba, NA19256  Yoruba, NA19257  \n",
       "0              0.1              0.1              NaN              NaN  \n",
       "\n",
       "[1 rows x 274 columns]"
      ]
     },
     "execution_count": 73,
     "metadata": {},
     "output_type": "execute_result"
    }
   ],
   "source": [
    "# Remove the 'Finland' columns from the copy of the dataframe\n",
    "df_tmp = df_tmp.drop(columns=fin_columns[1:])\n",
    "df_tmp.head(1)"
   ]
  },
  {
   "cell_type": "code",
   "execution_count": 74,
   "id": "c6f684e5",
   "metadata": {},
   "outputs": [
    {
     "name": "stdout",
     "output_type": "stream",
     "text": [
      "0         0.125000\n",
      "1              NaN\n",
      "2        49.763441\n",
      "3         3.322581\n",
      "4         5.021505\n",
      "           ...    \n",
      "48968          NaN\n",
      "48969     0.100000\n",
      "48970          NaN\n",
      "48971          NaN\n",
      "48972     0.108000\n",
      "Length: 48973, dtype: float64\n"
     ]
    },
    {
     "name": "stderr",
     "output_type": "stream",
     "text": [
      "/var/folders/d2/qsznt031653ftxspm5w68v0c0000gn/T/ipykernel_73721/746920098.py:4: FutureWarning: Dropping of nuisance columns in DataFrame reductions (with 'numeric_only=None') is deprecated; in a future version this will raise TypeError.  Select only valid columns before calling the reduction.\n",
      "  tsi_avg = tsi_df.mean(axis=1)\n"
     ]
    }
   ],
   "source": [
    "# Tuscan population\n",
    "tsi_columns = ['Gene Name'] + [col for col in df_fpkm.columns if col.startswith('Tusc')]\n",
    "tsi_df = df_fpkm[tsi_columns]\n",
    "tsi_avg = tsi_df.mean(axis=1)\n",
    "print(tsi_avg)"
   ]
  },
  {
   "cell_type": "code",
   "execution_count": 75,
   "id": "9a5047ef",
   "metadata": {},
   "outputs": [
    {
     "name": "stdout",
     "output_type": "stream",
     "text": [
      "[7.24468085106383, 7.326315789473684, 6.408602150537634] [0.2602150537634409, 0.22553191489361704, 0.24395604395604398] [0.1, 0.10000000000000002, 0.125] [2.515957446808511, 4.051578947368421, 2.6301075268817207] [5.617021276595745, 4.188421052631579, 4.95483870967742]\n"
     ]
    }
   ],
   "source": [
    "# save the average of the Tuscan population for BMPR2 gene\n",
    "# in a list\n",
    "bmpr2_index = tsi_df[tsi_df['Gene Name'] \\\n",
    "                           == 'BMPR2'].index[0]\n",
    "bmpr2_avg_list.append(tsi_avg[bmpr2_index])\n",
    "smad9_index = tsi_df[tsi_df['Gene Name'] \\\n",
    "                           == 'SMAD9'].index[0]\n",
    "smad9_avg_list.append(tsi_avg[smad9_index])\n",
    "acvrl1_index = tsi_df[tsi_df['Gene Name'] \\\n",
    "                           == 'ACVRL1'].index[0]\n",
    "acvrl1_avg_list.append(tsi_avg[acvrl1_index])\n",
    "cav1_index = tsi_df[tsi_df['Gene Name'] \\\n",
    "                           == 'CAV1'].index[0]\n",
    "cav1_avg_list.append(tsi_avg[cav1_index])\n",
    "eng_index = tsi_df[tsi_df['Gene Name'] \\\n",
    "                           == 'ENG'].index[0]\n",
    "eng_avg_list.append(tsi_avg[eng_index])\n",
    "print(bmpr2_avg_list, smad9_avg_list, acvrl1_avg_list, \\\n",
    "     cav1_avg_list, eng_avg_list)"
   ]
  },
  {
   "cell_type": "code",
   "execution_count": 76,
   "id": "e734053d",
   "metadata": {},
   "outputs": [
    {
     "data": {
      "text/html": [
       "<div>\n",
       "<style scoped>\n",
       "    .dataframe tbody tr th:only-of-type {\n",
       "        vertical-align: middle;\n",
       "    }\n",
       "\n",
       "    .dataframe tbody tr th {\n",
       "        vertical-align: top;\n",
       "    }\n",
       "\n",
       "    .dataframe thead th {\n",
       "        text-align: right;\n",
       "    }\n",
       "</style>\n",
       "<table border=\"1\" class=\"dataframe\">\n",
       "  <thead>\n",
       "    <tr style=\"text-align: right;\">\n",
       "      <th></th>\n",
       "      <th>Gene ID</th>\n",
       "      <th>Utah, NA06984</th>\n",
       "      <th>Utah, NA06985</th>\n",
       "      <th>Utah, NA06986</th>\n",
       "      <th>Utah, NA06989</th>\n",
       "      <th>Utah, NA06994</th>\n",
       "      <th>Utah, NA07037</th>\n",
       "      <th>Utah, NA07048</th>\n",
       "      <th>Utah, NA07051</th>\n",
       "      <th>Utah, NA07056</th>\n",
       "      <th>...</th>\n",
       "      <th>Yoruba, NA19214</th>\n",
       "      <th>Yoruba, NA19222</th>\n",
       "      <th>Yoruba, NA19223</th>\n",
       "      <th>Yoruba, NA19225</th>\n",
       "      <th>Yoruba, NA19235</th>\n",
       "      <th>Yoruba, NA19236</th>\n",
       "      <th>Yoruba, NA19247</th>\n",
       "      <th>Yoruba, NA19248</th>\n",
       "      <th>Yoruba, NA19256</th>\n",
       "      <th>Yoruba, NA19257</th>\n",
       "    </tr>\n",
       "  </thead>\n",
       "  <tbody>\n",
       "    <tr>\n",
       "      <th>0</th>\n",
       "      <td>ENSG00000000003</td>\n",
       "      <td>0.1</td>\n",
       "      <td>NaN</td>\n",
       "      <td>NaN</td>\n",
       "      <td>NaN</td>\n",
       "      <td>0.1</td>\n",
       "      <td>NaN</td>\n",
       "      <td>NaN</td>\n",
       "      <td>NaN</td>\n",
       "      <td>NaN</td>\n",
       "      <td>...</td>\n",
       "      <td>NaN</td>\n",
       "      <td>NaN</td>\n",
       "      <td>0.5</td>\n",
       "      <td>0.1</td>\n",
       "      <td>0.1</td>\n",
       "      <td>0.1</td>\n",
       "      <td>0.1</td>\n",
       "      <td>0.1</td>\n",
       "      <td>NaN</td>\n",
       "      <td>NaN</td>\n",
       "    </tr>\n",
       "  </tbody>\n",
       "</table>\n",
       "<p>1 rows × 181 columns</p>\n",
       "</div>"
      ],
      "text/plain": [
       "           Gene ID  Utah, NA06984  Utah, NA06985  Utah, NA06986  \\\n",
       "0  ENSG00000000003            0.1            NaN            NaN   \n",
       "\n",
       "   Utah, NA06989  Utah, NA06994  Utah, NA07037  Utah, NA07048  Utah, NA07051  \\\n",
       "0            NaN            0.1            NaN            NaN            NaN   \n",
       "\n",
       "   Utah, NA07056  ...  Yoruba, NA19214  Yoruba, NA19222  Yoruba, NA19223  \\\n",
       "0            NaN  ...              NaN              NaN              0.5   \n",
       "\n",
       "   Yoruba, NA19225  Yoruba, NA19235  Yoruba, NA19236  Yoruba, NA19247  \\\n",
       "0              0.1              0.1              0.1              0.1   \n",
       "\n",
       "   Yoruba, NA19248  Yoruba, NA19256  Yoruba, NA19257  \n",
       "0              0.1              NaN              NaN  \n",
       "\n",
       "[1 rows x 181 columns]"
      ]
     },
     "execution_count": 76,
     "metadata": {},
     "output_type": "execute_result"
    }
   ],
   "source": [
    "# Remove the 'Tuscan' columns from the copy of the dataframe\n",
    "df_tmp = df_tmp.drop(columns=tsi_columns[1:])\n",
    "df_tmp.head(1)"
   ]
  },
  {
   "cell_type": "code",
   "execution_count": 78,
   "id": "49bc382b",
   "metadata": {},
   "outputs": [
    {
     "name": "stdout",
     "output_type": "stream",
     "text": [
      "0         0.137500\n",
      "1         0.100000\n",
      "2        45.648352\n",
      "3         2.989011\n",
      "4         4.747253\n",
      "           ...    \n",
      "48968     0.100000\n",
      "48969          NaN\n",
      "48970          NaN\n",
      "48971     0.100000\n",
      "48972     0.130000\n",
      "Length: 48973, dtype: float64\n"
     ]
    },
    {
     "name": "stderr",
     "output_type": "stream",
     "text": [
      "/var/folders/d2/qsznt031653ftxspm5w68v0c0000gn/T/ipykernel_73721/3377169472.py:4: FutureWarning: Dropping of nuisance columns in DataFrame reductions (with 'numeric_only=None') is deprecated; in a future version this will raise TypeError.  Select only valid columns before calling the reduction.\n",
      "  ceu_avg = ceu_df.mean(axis=1)\n"
     ]
    }
   ],
   "source": [
    "# Utah population\n",
    "ceu_columns = ['Gene Name'] + [col for col in df_fpkm.columns if col.startswith('Utah')]\n",
    "ceu_df = df_fpkm[ceu_columns]\n",
    "ceu_avg = ceu_df.mean(axis=1)\n",
    "print(ceu_avg)"
   ]
  },
  {
   "cell_type": "code",
   "execution_count": 79,
   "id": "d8fd1d64",
   "metadata": {},
   "outputs": [
    {
     "name": "stdout",
     "output_type": "stream",
     "text": [
      "[7.24468085106383, 7.326315789473684, 6.408602150537634, 6.824175824175824] [0.2602150537634409, 0.22553191489361704, 0.24395604395604398, 0.2923076923076923] [0.1, 0.10000000000000002, 0.125, 0.11875000000000002] [2.515957446808511, 4.051578947368421, 2.6301075268817207, 3.3472527472527474] [5.617021276595745, 4.188421052631579, 4.95483870967742, 3.5340659340659344]\n"
     ]
    }
   ],
   "source": [
    "# save the average of the Tuscan population for BMPR2 gene\n",
    "# in a list\n",
    "bmpr2_index = ceu_df[ceu_df['Gene Name'] \\\n",
    "                           == 'BMPR2'].index[0]\n",
    "bmpr2_avg_list.append(ceu_avg[bmpr2_index])\n",
    "smad9_index = ceu_df[ceu_df['Gene Name'] \\\n",
    "                           == 'SMAD9'].index[0]\n",
    "smad9_avg_list.append(ceu_avg[smad9_index])\n",
    "acvrl1_index = ceu_df[ceu_df['Gene Name'] \\\n",
    "                           == 'ACVRL1'].index[0]\n",
    "acvrl1_avg_list.append(ceu_avg[acvrl1_index])\n",
    "cav1_index = ceu_df[ceu_df['Gene Name'] \\\n",
    "                           == 'CAV1'].index[0]\n",
    "cav1_avg_list.append(ceu_avg[cav1_index])\n",
    "eng_index = ceu_df[ceu_df['Gene Name'] \\\n",
    "                           == 'ENG'].index[0]\n",
    "eng_avg_list.append(ceu_avg[eng_index])\n",
    "print(bmpr2_avg_list, smad9_avg_list, acvrl1_avg_list, \\\n",
    "     cav1_avg_list, eng_avg_list)"
   ]
  },
  {
   "cell_type": "code",
   "execution_count": 80,
   "id": "0af9c046",
   "metadata": {},
   "outputs": [
    {
     "data": {
      "text/html": [
       "<div>\n",
       "<style scoped>\n",
       "    .dataframe tbody tr th:only-of-type {\n",
       "        vertical-align: middle;\n",
       "    }\n",
       "\n",
       "    .dataframe tbody tr th {\n",
       "        vertical-align: top;\n",
       "    }\n",
       "\n",
       "    .dataframe thead th {\n",
       "        text-align: right;\n",
       "    }\n",
       "</style>\n",
       "<table border=\"1\" class=\"dataframe\">\n",
       "  <thead>\n",
       "    <tr style=\"text-align: right;\">\n",
       "      <th></th>\n",
       "      <th>Gene ID</th>\n",
       "      <th>Yoruba, NA18486</th>\n",
       "      <th>Yoruba, NA18487</th>\n",
       "      <th>Yoruba, NA18488</th>\n",
       "      <th>Yoruba, NA18489</th>\n",
       "      <th>Yoruba, NA18498</th>\n",
       "      <th>Yoruba, NA18499</th>\n",
       "      <th>Yoruba, NA18502</th>\n",
       "      <th>Yoruba, NA18505</th>\n",
       "      <th>Yoruba, NA18508</th>\n",
       "      <th>...</th>\n",
       "      <th>Yoruba, NA19214</th>\n",
       "      <th>Yoruba, NA19222</th>\n",
       "      <th>Yoruba, NA19223</th>\n",
       "      <th>Yoruba, NA19225</th>\n",
       "      <th>Yoruba, NA19235</th>\n",
       "      <th>Yoruba, NA19236</th>\n",
       "      <th>Yoruba, NA19247</th>\n",
       "      <th>Yoruba, NA19248</th>\n",
       "      <th>Yoruba, NA19256</th>\n",
       "      <th>Yoruba, NA19257</th>\n",
       "    </tr>\n",
       "  </thead>\n",
       "  <tbody>\n",
       "    <tr>\n",
       "      <th>0</th>\n",
       "      <td>ENSG00000000003</td>\n",
       "      <td>NaN</td>\n",
       "      <td>NaN</td>\n",
       "      <td>NaN</td>\n",
       "      <td>0.1</td>\n",
       "      <td>0.4</td>\n",
       "      <td>NaN</td>\n",
       "      <td>NaN</td>\n",
       "      <td>0.3</td>\n",
       "      <td>NaN</td>\n",
       "      <td>...</td>\n",
       "      <td>NaN</td>\n",
       "      <td>NaN</td>\n",
       "      <td>0.5</td>\n",
       "      <td>0.1</td>\n",
       "      <td>0.1</td>\n",
       "      <td>0.1</td>\n",
       "      <td>0.1</td>\n",
       "      <td>0.1</td>\n",
       "      <td>NaN</td>\n",
       "      <td>NaN</td>\n",
       "    </tr>\n",
       "  </tbody>\n",
       "</table>\n",
       "<p>1 rows × 90 columns</p>\n",
       "</div>"
      ],
      "text/plain": [
       "           Gene ID  Yoruba, NA18486  Yoruba, NA18487  Yoruba, NA18488  \\\n",
       "0  ENSG00000000003              NaN              NaN              NaN   \n",
       "\n",
       "   Yoruba, NA18489  Yoruba, NA18498  Yoruba, NA18499  Yoruba, NA18502  \\\n",
       "0              0.1              0.4              NaN              NaN   \n",
       "\n",
       "   Yoruba, NA18505  Yoruba, NA18508  ...  Yoruba, NA19214  Yoruba, NA19222  \\\n",
       "0              0.3              NaN  ...              NaN              NaN   \n",
       "\n",
       "   Yoruba, NA19223  Yoruba, NA19225  Yoruba, NA19235  Yoruba, NA19236  \\\n",
       "0              0.5              0.1              0.1              0.1   \n",
       "\n",
       "   Yoruba, NA19247  Yoruba, NA19248  Yoruba, NA19256  Yoruba, NA19257  \n",
       "0              0.1              0.1              NaN              NaN  \n",
       "\n",
       "[1 rows x 90 columns]"
      ]
     },
     "execution_count": 80,
     "metadata": {},
     "output_type": "execute_result"
    }
   ],
   "source": [
    "# Remove the 'Utah' columns from the copy of the dataframe\n",
    "df_tmp = df_tmp.drop(columns=ceu_columns[1:])\n",
    "df_tmp.head(1)"
   ]
  },
  {
   "cell_type": "code",
   "execution_count": 81,
   "id": "1c8ac0ee",
   "metadata": {},
   "outputs": [
    {
     "name": "stdout",
     "output_type": "stream",
     "text": [
      "0         0.188372\n",
      "1         0.100000\n",
      "2        42.348315\n",
      "3         3.280899\n",
      "4         4.842697\n",
      "           ...    \n",
      "48968     0.100000\n",
      "48969     0.100000\n",
      "48970          NaN\n",
      "48971     0.100000\n",
      "48972     0.100000\n",
      "Length: 48973, dtype: float64\n"
     ]
    },
    {
     "name": "stderr",
     "output_type": "stream",
     "text": [
      "/var/folders/d2/qsznt031653ftxspm5w68v0c0000gn/T/ipykernel_73721/249252503.py:4: FutureWarning: Dropping of nuisance columns in DataFrame reductions (with 'numeric_only=None') is deprecated; in a future version this will raise TypeError.  Select only valid columns before calling the reduction.\n",
      "  yri_avg = yri_df.mean(axis=1)\n"
     ]
    }
   ],
   "source": [
    "# Yoruba population\n",
    "yri_columns = ['Gene Name'] + [col for col in df_fpkm.columns if col.startswith('Yoruba')]\n",
    "yri_df = df_fpkm[yri_columns]\n",
    "yri_avg = yri_df.mean(axis=1)\n",
    "print(yri_avg)"
   ]
  },
  {
   "cell_type": "code",
   "execution_count": 82,
   "id": "475f8dd3",
   "metadata": {},
   "outputs": [
    {
     "name": "stdout",
     "output_type": "stream",
     "text": [
      "[7.24468085106383, 7.326315789473684, 6.408602150537634, 6.824175824175824, 7.617977528089888] [0.2602150537634409, 0.22553191489361704, 0.24395604395604398, 0.2923076923076923, 0.22168674698795182] [0.1, 0.10000000000000002, 0.125, 0.11875000000000002, 0.13333333333333333] [2.515957446808511, 4.051578947368421, 2.6301075268817207, 3.3472527472527474, 1.7224719101123598] [5.617021276595745, 4.188421052631579, 4.95483870967742, 3.5340659340659344, 4.742696629213484]\n"
     ]
    }
   ],
   "source": [
    "# save the average of the Tuscan population for BMPR2 gene\n",
    "# in a list\n",
    "bmpr2_index = yri_df[yri_df['Gene Name'] \\\n",
    "                           == 'BMPR2'].index[0]\n",
    "bmpr2_avg_list.append(yri_avg[bmpr2_index])\n",
    "smad9_index = yri_df[yri_df['Gene Name'] \\\n",
    "                           == 'SMAD9'].index[0]\n",
    "smad9_avg_list.append(yri_avg[smad9_index])\n",
    "acvrl1_index = yri_df[yri_df['Gene Name'] \\\n",
    "                           == 'ACVRL1'].index[0]\n",
    "acvrl1_avg_list.append(yri_avg[acvrl1_index])\n",
    "cav1_index = yri_df[yri_df['Gene Name'] \\\n",
    "                           == 'CAV1'].index[0]\n",
    "cav1_avg_list.append(yri_avg[cav1_index])\n",
    "eng_index = yri_df[yri_df['Gene Name'] \\\n",
    "                           == 'ENG'].index[0]\n",
    "eng_avg_list.append(yri_avg[eng_index])\n",
    "print(bmpr2_avg_list, smad9_avg_list, acvrl1_avg_list, \\\n",
    "     cav1_avg_list, eng_avg_list)"
   ]
  },
  {
   "cell_type": "code",
   "execution_count": 83,
   "id": "8abc3a03",
   "metadata": {},
   "outputs": [
    {
     "data": {
      "text/html": [
       "<div>\n",
       "<style scoped>\n",
       "    .dataframe tbody tr th:only-of-type {\n",
       "        vertical-align: middle;\n",
       "    }\n",
       "\n",
       "    .dataframe tbody tr th {\n",
       "        vertical-align: top;\n",
       "    }\n",
       "\n",
       "    .dataframe thead th {\n",
       "        text-align: right;\n",
       "    }\n",
       "</style>\n",
       "<table border=\"1\" class=\"dataframe\">\n",
       "  <thead>\n",
       "    <tr style=\"text-align: right;\">\n",
       "      <th></th>\n",
       "      <th>Gene ID</th>\n",
       "    </tr>\n",
       "  </thead>\n",
       "  <tbody>\n",
       "    <tr>\n",
       "      <th>0</th>\n",
       "      <td>ENSG00000000003</td>\n",
       "    </tr>\n",
       "  </tbody>\n",
       "</table>\n",
       "</div>"
      ],
      "text/plain": [
       "           Gene ID\n",
       "0  ENSG00000000003"
      ]
     },
     "execution_count": 83,
     "metadata": {},
     "output_type": "execute_result"
    }
   ],
   "source": [
    "# Remove the 'Yoruba' columns from the copy of the dataframe\n",
    "df_tmp = df_tmp.drop(columns=yri_columns[1:])\n",
    "df_tmp.head(1)"
   ]
  },
  {
   "cell_type": "code",
   "execution_count": 84,
   "id": "4bd8439b",
   "metadata": {},
   "outputs": [],
   "source": [
    "# create a list for populations for which we have \n",
    "# gene expressions\n",
    "pop_list = ['British', 'Finland', 'Tuscan', 'Utah', 'Yoruba']\n"
   ]
  },
  {
   "cell_type": "code",
   "execution_count": 87,
   "id": "eaa8a798",
   "metadata": {},
   "outputs": [
    {
     "data": {
      "image/png": "[encoded data removed]",
      "text/plain": [
       "<Figure size 640x480 with 1 Axes>"
      ]
     },
     "metadata": {},
     "output_type": "display_data"
    }
   ],
   "source": [
    "bar_width = 0.15\n",
    "\n",
    "# Create an index array for the x-axis positions\n",
    "x = np.arange(len(pop_list))\n",
    "\n",
    "# Create the bar plot for Gene 1\n",
    "plt.bar(x - bar_width * 2, bmpr2_avg_list, width=bar_width, label='BMPR2')\n",
    "\n",
    "# Create the bar plot for Gene 2\n",
    "plt.bar(x - bar_width, smad9_avg_list, width=bar_width, label='SMAD9')\n",
    "\n",
    "# Create the bar plot for Gene 3\n",
    "plt.bar(x, acvrl1_avg_list, width=bar_width, label='ACVRL1')\n",
    "\n",
    "# Create the bar plot for Gene 4\n",
    "plt.bar(x + bar_width, cav1_avg_list, width=bar_width, label='CAV1')\n",
    "\n",
    "# Create the bar plot for Gene 5\n",
    "plt.bar(x + bar_width * 2, eng_avg_list, width=bar_width, label='ENG')\n",
    "\n",
    "# Add country names as x-axis labels\n",
    "plt.xticks(np.arange(len(pop_list)), pop_list)\n",
    "\n",
    "# Add labels and title\n",
    "plt.xlabel('Populations')\n",
    "plt.ylabel('Gene Expression')\n",
    "plt.title('Gene Expression Levels for Five Genes Across Countries')\n",
    "\n",
    "# Show the legend\n",
    "plt.legend(fontsize='small', bbox_to_anchor=(1.04, 1), loc='upper left')\n",
    "\n",
    "# Display the plot\n",
    "plt.tight_layout()  # Adjusts the layout to prevent clipping of labels\n",
    "plt.show()"
   ]
  },
  {
   "cell_type": "markdown",
   "id": "cfd219cf",
   "metadata": {},
   "source": [
    "# Gender gene expression"
   ]
  },
  {
   "cell_type": "code",
   "execution_count": 88,
   "id": "44a787bf",
   "metadata": {},
   "outputs": [],
   "source": [
    "# In order to find variation between genders, I first have to find the gender\n",
    "# of each individual. The column names in the gene expression file has the country\n",
    "# followed by comma and space, and then the individual's ID. This ID matches the\n",
    "# Family ID of the individual in the population spreadsheet, which also has the \n",
    "# gender of the individual. So I am looping through each column of the gene \n",
    "# expression dataframe, then I split the column name on comma, and strip trailing and \n",
    "# preceding whitespaces. Now I have the individual's Family ID that I can cross check\n",
    "# in the population dataframe. I extract the gender of that individual and add an M\n",
    "# or an F to the ID and rename the column based on gender, instead of country. Now\n",
    "# I have column names which have gender, followed by comma and space, and then ID. \n",
    "# I repeat what I did in the previous step where I was finding average gene expression\n",
    "# based on population. This time, I find it based on whether the column name begins with\n",
    "# an M or an F. I find the average for each gender and then find the absolute difference\n",
    "# between the two. "
   ]
  },
  {
   "cell_type": "code",
   "execution_count": 89,
   "id": "19b6635d",
   "metadata": {},
   "outputs": [],
   "source": [
    "# copy original dataframes so that they don't get modified\n",
    "df_fpkm_new = df_fpkm.copy()\n",
    "df_new = pop_df.copy()"
   ]
  },
  {
   "cell_type": "code",
   "execution_count": 90,
   "id": "72af959a",
   "metadata": {},
   "outputs": [
    {
     "data": {
      "text/html": [
       "<div>\n",
       "<style scoped>\n",
       "    .dataframe tbody tr th:only-of-type {\n",
       "        vertical-align: middle;\n",
       "    }\n",
       "\n",
       "    .dataframe tbody tr th {\n",
       "        vertical-align: top;\n",
       "    }\n",
       "\n",
       "    .dataframe thead th {\n",
       "        text-align: right;\n",
       "    }\n",
       "</style>\n",
       "<table border=\"1\" class=\"dataframe\">\n",
       "  <thead>\n",
       "    <tr style=\"text-align: right;\">\n",
       "      <th></th>\n",
       "      <th>Gene ID</th>\n",
       "      <th>Gene Name</th>\n",
       "      <th>M, HG00096</th>\n",
       "      <th>F, HG00097</th>\n",
       "      <th>F, HG00099</th>\n",
       "      <th>F, HG00100</th>\n",
       "      <th>M, HG00101</th>\n",
       "      <th>F, HG00102</th>\n",
       "      <th>M, HG00103</th>\n",
       "      <th>F, HG00104</th>\n",
       "      <th>...</th>\n",
       "      <th>F, NA19214</th>\n",
       "      <th>F, NA19222</th>\n",
       "      <th>M, NA19223</th>\n",
       "      <th>F, NA19225</th>\n",
       "      <th>F, NA19235</th>\n",
       "      <th>M, NA19236</th>\n",
       "      <th>F, NA19247</th>\n",
       "      <th>M, NA19248</th>\n",
       "      <th>M, NA19256</th>\n",
       "      <th>F, NA19257</th>\n",
       "    </tr>\n",
       "  </thead>\n",
       "  <tbody>\n",
       "    <tr>\n",
       "      <th>0</th>\n",
       "      <td>ENSG00000000003</td>\n",
       "      <td>TSPAN6</td>\n",
       "      <td>NaN</td>\n",
       "      <td>NaN</td>\n",
       "      <td>NaN</td>\n",
       "      <td>NaN</td>\n",
       "      <td>NaN</td>\n",
       "      <td>NaN</td>\n",
       "      <td>NaN</td>\n",
       "      <td>0.1</td>\n",
       "      <td>...</td>\n",
       "      <td>NaN</td>\n",
       "      <td>NaN</td>\n",
       "      <td>0.5</td>\n",
       "      <td>0.1</td>\n",
       "      <td>0.1</td>\n",
       "      <td>0.1</td>\n",
       "      <td>0.1</td>\n",
       "      <td>0.1</td>\n",
       "      <td>NaN</td>\n",
       "      <td>NaN</td>\n",
       "    </tr>\n",
       "  </tbody>\n",
       "</table>\n",
       "<p>1 rows × 464 columns</p>\n",
       "</div>"
      ],
      "text/plain": [
       "           Gene ID Gene Name  M, HG00096  F, HG00097  F, HG00099  F, HG00100  \\\n",
       "0  ENSG00000000003    TSPAN6         NaN         NaN         NaN         NaN   \n",
       "\n",
       "   M, HG00101  F, HG00102  M, HG00103  F, HG00104  ...  F, NA19214  \\\n",
       "0         NaN         NaN         NaN         0.1  ...         NaN   \n",
       "\n",
       "   F, NA19222  M, NA19223  F, NA19225  F, NA19235  M, NA19236  F, NA19247  \\\n",
       "0         NaN         0.5         0.1         0.1         0.1         0.1   \n",
       "\n",
       "   M, NA19248  M, NA19256  F, NA19257  \n",
       "0         0.1         NaN         NaN  \n",
       "\n",
       "[1 rows x 464 columns]"
      ]
     },
     "execution_count": 90,
     "metadata": {},
     "output_type": "execute_result"
    }
   ],
   "source": [
    "# Extract 'ID' from 'Country,ID' column in df_fptm and just\n",
    "# extract ID part\n",
    "# Loop through each column name i\n",
    "for col in df_fpkm_new.columns[2:]:\n",
    "    idstr = col.split(',')[1].strip()\n",
    "    if (pop_df.loc[pop_df['Sample'] == idstr, 'Gender'].values[0]) == 'male':\n",
    "        newcol = 'M'+', '+idstr\n",
    "    elif (pop_df.loc[pop_df['Sample'] == idstr, 'Gender'].values[0]) == 'female':\n",
    "        newcol = 'F'+', '+idstr\n",
    "    df_fpkm_new.rename(columns={col: newcol}, inplace=True)\n",
    "df_fpkm_new.head(1)"
   ]
  },
  {
   "cell_type": "code",
   "execution_count": 91,
   "id": "aad370fa",
   "metadata": {},
   "outputs": [
    {
     "name": "stdout",
     "output_type": "stream",
     "text": [
      "0         0.154687\n",
      "1         0.100000\n",
      "2        47.550926\n",
      "3         3.416667\n",
      "4         4.962963\n",
      "           ...    \n",
      "48968          NaN\n",
      "48969     0.100000\n",
      "48970          NaN\n",
      "48971     0.100000\n",
      "48972     0.121739\n",
      "Length: 48973, dtype: float64\n"
     ]
    },
    {
     "name": "stderr",
     "output_type": "stream",
     "text": [
      "/var/folders/d2/qsznt031653ftxspm5w68v0c0000gn/T/ipykernel_73721/2599165972.py:4: FutureWarning: Dropping of nuisance columns in DataFrame reductions (with 'numeric_only=None') is deprecated; in a future version this will raise TypeError.  Select only valid columns before calling the reduction.\n",
      "  male_avg = male_df.mean(axis=1)\n"
     ]
    }
   ],
   "source": [
    "# male population\n",
    "male_columns = ['Gene Name'] + [col for col in df_fpkm_new.columns if col.startswith('M,')]\n",
    "male_df = df_fpkm_new[male_columns]\n",
    "male_avg = male_df.mean(axis=1)\n",
    "print(male_avg)"
   ]
  },
  {
   "cell_type": "code",
   "execution_count": 92,
   "id": "0fa02ed8",
   "metadata": {},
   "outputs": [
    {
     "name": "stdout",
     "output_type": "stream",
     "text": [
      "[7.175925925925926] [0.23915094339622642] [0.11555555555555556] [2.588888888888889] [4.575]\n"
     ]
    }
   ],
   "source": [
    "# gene expression list\n",
    "bmpr2_index = male_df[male_df['Gene Name'] \\\n",
    "                           == 'BMPR2'].index[0]\n",
    "bmpr2_list = [male_avg[bmpr2_index]]\n",
    "smad9_index = male_df[male_df['Gene Name'] \\\n",
    "                           == 'SMAD9'].index[0]\n",
    "smad9_list = [male_avg[smad9_index]]\n",
    "acvrl1_index = male_df[male_df['Gene Name'] \\\n",
    "                           == 'ACVRL1'].index[0]\n",
    "acvrl1_list = [male_avg[acvrl1_index]]\n",
    "cav1_index = male_df[male_df['Gene Name'] \\\n",
    "                           == 'CAV1'].index[0]\n",
    "cav1_list = [male_avg[cav1_index]]\n",
    "eng_index = male_df[male_df['Gene Name'] \\\n",
    "                           == 'ENG'].index[0]\n",
    "eng_list = [male_avg[eng_index]]\n",
    "print(bmpr2_list, smad9_list, acvrl1_list, cav1_list, eng_list)"
   ]
  },
  {
   "cell_type": "code",
   "execution_count": 93,
   "id": "24a220f2",
   "metadata": {},
   "outputs": [
    {
     "name": "stdout",
     "output_type": "stream",
     "text": [
      "0         0.135065\n",
      "1         0.100000\n",
      "2        46.439024\n",
      "3         3.227642\n",
      "4         4.715447\n",
      "           ...    \n",
      "48968     0.100000\n",
      "48969     0.100000\n",
      "48970     0.100000\n",
      "48971     0.100000\n",
      "48972     0.114493\n",
      "Length: 48973, dtype: float64\n"
     ]
    },
    {
     "name": "stderr",
     "output_type": "stream",
     "text": [
      "/var/folders/d2/qsznt031653ftxspm5w68v0c0000gn/T/ipykernel_73721/2109144614.py:4: FutureWarning: Dropping of nuisance columns in DataFrame reductions (with 'numeric_only=None') is deprecated; in a future version this will raise TypeError.  Select only valid columns before calling the reduction.\n",
      "  female_avg = female_df.mean(axis=1)\n"
     ]
    }
   ],
   "source": [
    "# female population\n",
    "female_columns = ['Gene Name'] + [col for col in df_fpkm_new.columns if col.startswith('F,')]\n",
    "female_df = df_fpkm_new[female_columns]\n",
    "female_avg = female_df.mean(axis=1)\n",
    "print(female_avg)"
   ]
  },
  {
   "cell_type": "code",
   "execution_count": 94,
   "id": "87022075",
   "metadata": {},
   "outputs": [
    {
     "name": "stdout",
     "output_type": "stream",
     "text": [
      "[7.175925925925926, 7.0] [0.23915094339622642, 0.2579166666666667] [0.11555555555555556, 0.11538461538461539] [2.588888888888889, 3.1085365853658535] [4.575, 4.6430894308943085]\n"
     ]
    }
   ],
   "source": [
    "# gene expression list\n",
    "bmpr2_index = female_df[female_df['Gene Name'] \\\n",
    "                           == 'BMPR2'].index[0]\n",
    "bmpr2_list.append(female_avg[bmpr2_index])\n",
    "smad9_index = female_df[female_df['Gene Name'] \\\n",
    "                           == 'SMAD9'].index[0]\n",
    "smad9_list.append(female_avg[smad9_index])\n",
    "acvrl1_index = female_df[female_df['Gene Name'] \\\n",
    "                           == 'ACVRL1'].index[0]\n",
    "acvrl1_list.append(female_avg[acvrl1_index])\n",
    "cav1_index = female_df[female_df['Gene Name'] \\\n",
    "                           == 'CAV1'].index[0]\n",
    "cav1_list.append(female_avg[cav1_index])\n",
    "eng_index = female_df[female_df['Gene Name'] \\\n",
    "                           == 'ENG'].index[0]\n",
    "eng_list.append(female_avg[eng_index])\n",
    "print(bmpr2_list, smad9_list, acvrl1_list, cav1_list, eng_list)"
   ]
  },
  {
   "cell_type": "code",
   "execution_count": 96,
   "id": "99996183",
   "metadata": {},
   "outputs": [
    {
     "data": {
      "image/png": "[encoded data removed]",
      "text/plain": [
       "<Figure size 640x480 with 1 Axes>"
      ]
     },
     "metadata": {},
     "output_type": "display_data"
    }
   ],
   "source": [
    "genders = ['Male', 'Female']\n",
    "\n",
    "# Set the width of the bars\n",
    "bar_width = 0.1\n",
    "\n",
    "# Create an index array for the x-axis positions\n",
    "x = np.arange(len(genders))\n",
    "\n",
    "# Create the grouped bar plot for each gene's expression\n",
    "plt.bar(x - bar_width / 2, bmpr2_list, width=bar_width, label='BMPR2')\n",
    "plt.bar(x + bar_width / 2, smad9_list, width=bar_width, label='SMAD9')\n",
    "plt.bar(x + bar_width * 1.5, acvrl1_list, width=bar_width, label='ACVRL1')\n",
    "plt.bar(x + bar_width * 2.5, cav1_list, width=bar_width, label='CAV1')\n",
    "plt.bar(x + bar_width * 3.5, eng_list, width=bar_width, label='ENG')\n",
    "\n",
    "# Add gender names as x-axis labels\n",
    "plt.xticks(np.arange(len(genders)), genders)\n",
    "\n",
    "# Add labels and title\n",
    "plt.xlabel('Genders')\n",
    "plt.ylabel('Gene Expression')\n",
    "plt.title('Gene Expression Levels for Genes Across Genders')\n",
    "\n",
    "# Show the legend\n",
    "plt.legend()\n",
    "\n",
    "# Display the plot\n",
    "plt.tight_layout()  # Adjusts the layout to prevent clipping of labels\n",
    "plt.show()"
   ]
  },
  {
   "cell_type": "code",
   "execution_count": null,
   "id": "d83dfdf2",
   "metadata": {},
   "outputs": [],
   "source": []
  }
 ],
 "metadata": {
  "kernelspec": {
   "display_name": "Python 3 (ipykernel)",
   "language": "python",
   "name": "python3"
  },
  "language_info": {
   "codemirror_mode": {
    "name": "ipython",
    "version": 3
   },
   "file_extension": ".py",
   "mimetype": "text/x-python",
   "name": "python",
   "nbconvert_exporter": "python",
   "pygments_lexer": "ipython3",
   "version": "3.9.16"
  }
 },
 "nbformat": 4,
 "nbformat_minor": 5
}
